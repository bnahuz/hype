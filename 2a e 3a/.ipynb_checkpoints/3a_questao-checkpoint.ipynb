{
 "cells": [
  {
   "cell_type": "markdown",
   "id": "together-weapon",
   "metadata": {},
   "source": [
    "<img src=\"assets/logo.png\" alt=\"Drawing\" style=\"width: 300px;\"/>"
   ]
  },
  {
   "cell_type": "markdown",
   "id": "stupid-raise",
   "metadata": {},
   "source": [
    "# Origem dos dados\n",
    "\n",
    "Esta base de dados faz parte do projeto de Business Case da Hype para a vaga de Estágio em Dados. Todos os dados expostos são fictícios."
   ]
  },
  {
   "cell_type": "markdown",
   "id": "terminal-diabetes",
   "metadata": {},
   "source": [
    "# Observações\n",
    "* Acme precisa identificar quais funções podem ser otimizadas pelo departamento de Desenvolvimento\n",
    "* Foi considerado que uma função não otimizada é aquela que possui alta variação em tempo de execução em relação à média dos tempos de execução, desde que ela não acesse algum sistema externo."
   ]
  },
  {
   "cell_type": "markdown",
   "id": "dental-delicious",
   "metadata": {},
   "source": [
    "# Perguntas que serão respondidas com base na análise:\n",
    "\n",
    "* A) Identificar quais funções precisam ser revisadas. Será considerado 30% como o limite de tolerância para a variação em relação à média e que todas as funções que estiverem além deste limite precisam ser revisadas.\n",
    "* B) Mostrar um gráfico que apresenta a variação ao longo do tempo, a média, os limites de tolerância e os pontos nos meses em que a variação passa do limite de forma diferenciada."
   ]
  },
  {
   "cell_type": "code",
   "execution_count": 1,
   "id": "intensive-cancer",
   "metadata": {},
   "outputs": [],
   "source": [
    "import pandas as pd\n",
    "import numpy as np\n",
    "import matplotlib.pyplot as plt\n",
    "%matplotlib inline\n",
    "import seaborn as sns\n",
    "import datetime\n",
    "import warnings\n",
    "sns.set()\n",
    "sns.set_theme(style=\"whitegrid\")\n",
    "\n",
    "df = pd.read_csv('executions.csv',index_col= None)\n",
    "df_func = pd.read_csv('functions.csv', index_col=0)"
   ]
  },
  {
   "cell_type": "markdown",
   "id": "sitting-scenario",
   "metadata": {},
   "source": [
    "# Agora que os dados estão carregados, mudanças serão feitas:\n",
    "* Verificar como os dados estão catalogados.\n",
    "* Criar uma nova coluna com o tempo de execução da função real, desconsiderando o tempo médio de latência caso a função utilize componentes externos.\n",
    "* Extrair as médias e o intervalo de tolerância aceitável para identificar quais funções devem ser otimizadas."
   ]
  },
  {
   "cell_type": "code",
   "execution_count": 2,
   "id": "innocent-allowance",
   "metadata": {},
   "outputs": [
    {
     "data": {
      "text/html": [
       "<div>\n",
       "<style scoped>\n",
       "    .dataframe tbody tr th:only-of-type {\n",
       "        vertical-align: middle;\n",
       "    }\n",
       "\n",
       "    .dataframe tbody tr th {\n",
       "        vertical-align: top;\n",
       "    }\n",
       "\n",
       "    .dataframe thead th {\n",
       "        text-align: right;\n",
       "    }\n",
       "</style>\n",
       "<table border=\"1\" class=\"dataframe\">\n",
       "  <thead>\n",
       "    <tr style=\"text-align: right;\">\n",
       "      <th></th>\n",
       "      <th>id</th>\n",
       "      <th>date</th>\n",
       "      <th>function_id</th>\n",
       "      <th>execution_time</th>\n",
       "    </tr>\n",
       "  </thead>\n",
       "  <tbody>\n",
       "    <tr>\n",
       "      <th>0</th>\n",
       "      <td>6491</td>\n",
       "      <td>2020-05-27</td>\n",
       "      <td>2</td>\n",
       "      <td>373</td>\n",
       "    </tr>\n",
       "    <tr>\n",
       "      <th>1</th>\n",
       "      <td>12540</td>\n",
       "      <td>2020-02-08</td>\n",
       "      <td>4</td>\n",
       "      <td>5806</td>\n",
       "    </tr>\n",
       "    <tr>\n",
       "      <th>2</th>\n",
       "      <td>17756</td>\n",
       "      <td>2020-04-19</td>\n",
       "      <td>5</td>\n",
       "      <td>154</td>\n",
       "    </tr>\n",
       "    <tr>\n",
       "      <th>3</th>\n",
       "      <td>15598</td>\n",
       "      <td>2020-08-26</td>\n",
       "      <td>5</td>\n",
       "      <td>149</td>\n",
       "    </tr>\n",
       "    <tr>\n",
       "      <th>4</th>\n",
       "      <td>5916</td>\n",
       "      <td>2020-01-20</td>\n",
       "      <td>1</td>\n",
       "      <td>257</td>\n",
       "    </tr>\n",
       "  </tbody>\n",
       "</table>\n",
       "</div>"
      ],
      "text/plain": [
       "      id        date  function_id  execution_time\n",
       "0   6491  2020-05-27            2             373\n",
       "1  12540  2020-02-08            4            5806\n",
       "2  17756  2020-04-19            5             154\n",
       "3  15598  2020-08-26            5             149\n",
       "4   5916  2020-01-20            1             257"
      ]
     },
     "execution_count": 2,
     "metadata": {},
     "output_type": "execute_result"
    }
   ],
   "source": [
    "df.head()"
   ]
  },
  {
   "cell_type": "code",
   "execution_count": 3,
   "id": "macro-resident",
   "metadata": {},
   "outputs": [
    {
     "data": {
      "text/html": [
       "<div>\n",
       "<style scoped>\n",
       "    .dataframe tbody tr th:only-of-type {\n",
       "        vertical-align: middle;\n",
       "    }\n",
       "\n",
       "    .dataframe tbody tr th {\n",
       "        vertical-align: top;\n",
       "    }\n",
       "\n",
       "    .dataframe thead th {\n",
       "        text-align: right;\n",
       "    }\n",
       "</style>\n",
       "<table border=\"1\" class=\"dataframe\">\n",
       "  <thead>\n",
       "    <tr style=\"text-align: right;\">\n",
       "      <th></th>\n",
       "      <th>function_name</th>\n",
       "      <th>external_component_avg_latency</th>\n",
       "      <th>has_external_component</th>\n",
       "    </tr>\n",
       "    <tr>\n",
       "      <th>id</th>\n",
       "      <th></th>\n",
       "      <th></th>\n",
       "      <th></th>\n",
       "    </tr>\n",
       "  </thead>\n",
       "  <tbody>\n",
       "    <tr>\n",
       "      <th>0</th>\n",
       "      <td>checkSomething</td>\n",
       "      <td>0</td>\n",
       "      <td>False</td>\n",
       "    </tr>\n",
       "    <tr>\n",
       "      <th>1</th>\n",
       "      <td>doThisThing</td>\n",
       "      <td>30</td>\n",
       "      <td>True</td>\n",
       "    </tr>\n",
       "    <tr>\n",
       "      <th>2</th>\n",
       "      <td>doThatThing</td>\n",
       "      <td>0</td>\n",
       "      <td>False</td>\n",
       "    </tr>\n",
       "    <tr>\n",
       "      <th>3</th>\n",
       "      <td>accessAnotherThing</td>\n",
       "      <td>1000</td>\n",
       "      <td>True</td>\n",
       "    </tr>\n",
       "    <tr>\n",
       "      <th>4</th>\n",
       "      <td>sendAFile</td>\n",
       "      <td>2500</td>\n",
       "      <td>True</td>\n",
       "    </tr>\n",
       "    <tr>\n",
       "      <th>5</th>\n",
       "      <td>fetchThisMetadata</td>\n",
       "      <td>20</td>\n",
       "      <td>True</td>\n",
       "    </tr>\n",
       "  </tbody>\n",
       "</table>\n",
       "</div>"
      ],
      "text/plain": [
       "         function_name  external_component_avg_latency  has_external_component\n",
       "id                                                                            \n",
       "0       checkSomething                               0                   False\n",
       "1          doThisThing                              30                    True\n",
       "2          doThatThing                               0                   False\n",
       "3   accessAnotherThing                            1000                    True\n",
       "4            sendAFile                            2500                    True\n",
       "5    fetchThisMetadata                              20                    True"
      ]
     },
     "execution_count": 3,
     "metadata": {},
     "output_type": "execute_result"
    }
   ],
   "source": [
    "df_func.head(6)"
   ]
  },
  {
   "cell_type": "markdown",
   "id": "mobile-indie",
   "metadata": {},
   "source": [
    "Aqui verifica-se como o Python está tratando esses dados, ou seja, se há algum formato incoerente."
   ]
  },
  {
   "cell_type": "code",
   "execution_count": 4,
   "id": "plastic-kitty",
   "metadata": {},
   "outputs": [
    {
     "data": {
      "text/plain": [
       "id                 int64\n",
       "date              object\n",
       "function_id        int64\n",
       "execution_time     int64\n",
       "dtype: object"
      ]
     },
     "execution_count": 4,
     "metadata": {},
     "output_type": "execute_result"
    }
   ],
   "source": [
    "df.dtypes"
   ]
  },
  {
   "cell_type": "markdown",
   "id": "funded-person",
   "metadata": {},
   "source": [
    "# Limpeza de dados:\n",
    "A coluna `id` não está em ordem, por isso foi retirada. "
   ]
  },
  {
   "cell_type": "code",
   "execution_count": 5,
   "id": "exciting-column",
   "metadata": {},
   "outputs": [],
   "source": [
    "def get_function_latency(id):\n",
    "    return df_func.external_component_avg_latency[id] "
   ]
  },
  {
   "cell_type": "markdown",
   "id": "protected-hudson",
   "metadata": {},
   "source": [
    "Essa função acima tem como propósito apenas retornar o valor da latência externa média."
   ]
  },
  {
   "cell_type": "code",
   "execution_count": 6,
   "id": "soviet-magnitude",
   "metadata": {},
   "outputs": [
    {
     "data": {
      "text/html": [
       "<div>\n",
       "<style scoped>\n",
       "    .dataframe tbody tr th:only-of-type {\n",
       "        vertical-align: middle;\n",
       "    }\n",
       "\n",
       "    .dataframe tbody tr th {\n",
       "        vertical-align: top;\n",
       "    }\n",
       "\n",
       "    .dataframe thead th {\n",
       "        text-align: right;\n",
       "    }\n",
       "</style>\n",
       "<table border=\"1\" class=\"dataframe\">\n",
       "  <thead>\n",
       "    <tr style=\"text-align: right;\">\n",
       "      <th></th>\n",
       "      <th>date</th>\n",
       "      <th>function_id</th>\n",
       "      <th>real_exe_time</th>\n",
       "    </tr>\n",
       "  </thead>\n",
       "  <tbody>\n",
       "    <tr>\n",
       "      <th>0</th>\n",
       "      <td>2020-05-27</td>\n",
       "      <td>2</td>\n",
       "      <td>373</td>\n",
       "    </tr>\n",
       "    <tr>\n",
       "      <th>1</th>\n",
       "      <td>2020-02-08</td>\n",
       "      <td>4</td>\n",
       "      <td>3306</td>\n",
       "    </tr>\n",
       "    <tr>\n",
       "      <th>2</th>\n",
       "      <td>2020-04-19</td>\n",
       "      <td>5</td>\n",
       "      <td>134</td>\n",
       "    </tr>\n",
       "    <tr>\n",
       "      <th>3</th>\n",
       "      <td>2020-08-26</td>\n",
       "      <td>5</td>\n",
       "      <td>129</td>\n",
       "    </tr>\n",
       "    <tr>\n",
       "      <th>4</th>\n",
       "      <td>2020-01-20</td>\n",
       "      <td>1</td>\n",
       "      <td>227</td>\n",
       "    </tr>\n",
       "  </tbody>\n",
       "</table>\n",
       "</div>"
      ],
      "text/plain": [
       "         date  function_id  real_exe_time\n",
       "0  2020-05-27            2            373\n",
       "1  2020-02-08            4           3306\n",
       "2  2020-04-19            5            134\n",
       "3  2020-08-26            5            129\n",
       "4  2020-01-20            1            227"
      ]
     },
     "execution_count": 6,
     "metadata": {},
     "output_type": "execute_result"
    }
   ],
   "source": [
    "df['real_exe_time'] = df.execution_time - df.function_id.apply(get_function_latency)\n",
    "df.drop(['id','execution_time'], axis=1, inplace = True)\n",
    "df.head()"
   ]
  },
  {
   "cell_type": "markdown",
   "id": "talented-editor",
   "metadata": {},
   "source": [
    "Uma vez com o resultado do real tempo de execução da função(desconsiderando fatores externos) foram criadas as duas funções abaixo, a função `get_function_data` retorna ou o dataframe da função selecionada ou os valores da média, os invervalos(média + 30% e média - 30%) e os valores máximo e mínimo.  \n",
    "\n",
    "A função `date_to_monthName` será usada logo adiante para a visualização dos dados."
   ]
  },
  {
   "cell_type": "code",
   "execution_count": 7,
   "id": "senior-variance",
   "metadata": {},
   "outputs": [],
   "source": [
    "def get_function_data(dataframe,function_id, get_df = False):\n",
    "    df_test = dataframe.copy()\n",
    "    df_test = df_test.loc[df_test['function_id'] == function_id]\n",
    "    df_test.sort_values(by = ['date'], inplace= True)\n",
    "    if get_df:\n",
    "        return df_test\n",
    "    else:\n",
    "        df = {'function_id': function_id, 'mean': df_test.mean(), \n",
    "             'mean+30%':(round(df_test.mean()*1.3)),'mean-30%':(round(df_test.mean()*0.7)),\n",
    "             'min': df_test.min(),'max':df_test.max()\n",
    "            }\n",
    "        df_results = pd.DataFrame(data=df)\n",
    "        df_results.drop(['date', 'function_id'], inplace = True)\n",
    "        return df_results\n",
    "    \n",
    "def date_to_monthName(df):\n",
    "    for index in df.index:\n",
    "        if '2020-01-01' <=df.loc[index,'date'] <= '2020-01-31':\n",
    "            df.loc[index,'date'] = 'Jan'\n",
    "        elif '2020-02-01' <=df.loc[index,'date'] <= '2020-02-31':\n",
    "            df.loc[index,'date'] = 'Fev'\n",
    "        elif '2020-03-01' <=df.loc[index,'date'] <= '2020-03-31':\n",
    "            df.loc[index,'date'] = 'Mar'\n",
    "        elif '2020-04-01' <=df.loc[index,'date'] <= '2020-04-31':\n",
    "            df.loc[index,'date'] = 'Abr'\n",
    "        elif '2020-05-01' <=df.loc[index,'date'] <= '2020-05-31':\n",
    "            df.loc[index,'date'] = 'Mai'\n",
    "        elif '2020-06-01' <=df.loc[index,'date'] <= '2020-06-31':\n",
    "            df.loc[index,'date'] = 'Jun'\n",
    "        elif '2020-07-01' <=df.loc[index,'date'] <= '2020-07-31':\n",
    "            df.loc[index,'date'] = 'Jul'\n",
    "        elif '2020-08-01' <=df.loc[index,'date'] <= '2020-08-31':\n",
    "            df.loc[index,'date'] = 'Ago'\n",
    "        elif '2020-09-01' <=df.loc[index,'date'] <= '2020-09-31':\n",
    "            df.loc[index,'date'] = 'Set'\n",
    "        elif '2020-10-01' <=df.loc[index,'date'] <= '2020-10-31':\n",
    "            df.loc[index,'date'] = 'Out'\n",
    "        elif '2020-11-01' <=df.loc[index,'date'] <= '2020-11-31':\n",
    "            df.loc[index,'date'] = 'Nov'\n",
    "        else:\n",
    "            df.loc[index,'date'] = 'Dez'"
   ]
  },
  {
   "cell_type": "code",
   "execution_count": 8,
   "id": "vanilla-planet",
   "metadata": {},
   "outputs": [],
   "source": [
    "d = [get_function_data(df,0),\n",
    "      get_function_data(df,1),\n",
    "      get_function_data(df,2),\n",
    "      get_function_data(df,3),\n",
    "      get_function_data(df,4),\n",
    "      get_function_data(df,5)]\n",
    "results = pd.concat(d)"
   ]
  },
  {
   "cell_type": "code",
   "execution_count": 9,
   "id": "decimal-football",
   "metadata": {},
   "outputs": [
    {
     "data": {
      "text/html": [
       "<div>\n",
       "<style scoped>\n",
       "    .dataframe tbody tr th:only-of-type {\n",
       "        vertical-align: middle;\n",
       "    }\n",
       "\n",
       "    .dataframe tbody tr th {\n",
       "        vertical-align: top;\n",
       "    }\n",
       "\n",
       "    .dataframe thead th {\n",
       "        text-align: right;\n",
       "    }\n",
       "</style>\n",
       "<table border=\"1\" class=\"dataframe\">\n",
       "  <thead>\n",
       "    <tr style=\"text-align: right;\">\n",
       "      <th></th>\n",
       "      <th>function_id</th>\n",
       "      <th>mean</th>\n",
       "      <th>mean+30%</th>\n",
       "      <th>mean-30%</th>\n",
       "      <th>min</th>\n",
       "      <th>max</th>\n",
       "    </tr>\n",
       "  </thead>\n",
       "  <tbody>\n",
       "    <tr>\n",
       "      <th>real_exe_time</th>\n",
       "      <td>0</td>\n",
       "      <td>66.107667</td>\n",
       "      <td>86.0</td>\n",
       "      <td>46.0</td>\n",
       "      <td>49</td>\n",
       "      <td>85</td>\n",
       "    </tr>\n",
       "    <tr>\n",
       "      <th>real_exe_time</th>\n",
       "      <td>1</td>\n",
       "      <td>223.987667</td>\n",
       "      <td>291.0</td>\n",
       "      <td>157.0</td>\n",
       "      <td>211</td>\n",
       "      <td>235</td>\n",
       "    </tr>\n",
       "    <tr>\n",
       "      <th>real_exe_time</th>\n",
       "      <td>2</td>\n",
       "      <td>329.945333</td>\n",
       "      <td>429.0</td>\n",
       "      <td>231.0</td>\n",
       "      <td>256</td>\n",
       "      <td>408</td>\n",
       "    </tr>\n",
       "    <tr>\n",
       "      <th>real_exe_time</th>\n",
       "      <td>3</td>\n",
       "      <td>33.140000</td>\n",
       "      <td>43.0</td>\n",
       "      <td>23.0</td>\n",
       "      <td>17</td>\n",
       "      <td>50</td>\n",
       "    </tr>\n",
       "    <tr>\n",
       "      <th>real_exe_time</th>\n",
       "      <td>4</td>\n",
       "      <td>3301.949333</td>\n",
       "      <td>4293.0</td>\n",
       "      <td>2311.0</td>\n",
       "      <td>2940</td>\n",
       "      <td>3698</td>\n",
       "    </tr>\n",
       "    <tr>\n",
       "      <th>real_exe_time</th>\n",
       "      <td>5</td>\n",
       "      <td>132.090667</td>\n",
       "      <td>172.0</td>\n",
       "      <td>92.0</td>\n",
       "      <td>93</td>\n",
       "      <td>170</td>\n",
       "    </tr>\n",
       "  </tbody>\n",
       "</table>\n",
       "</div>"
      ],
      "text/plain": [
       "               function_id         mean  mean+30%  mean-30%   min   max\n",
       "real_exe_time            0    66.107667      86.0      46.0    49    85\n",
       "real_exe_time            1   223.987667     291.0     157.0   211   235\n",
       "real_exe_time            2   329.945333     429.0     231.0   256   408\n",
       "real_exe_time            3    33.140000      43.0      23.0    17    50\n",
       "real_exe_time            4  3301.949333    4293.0    2311.0  2940  3698\n",
       "real_exe_time            5   132.090667     172.0      92.0    93   170"
      ]
     },
     "execution_count": 9,
     "metadata": {},
     "output_type": "execute_result"
    }
   ],
   "source": [
    "results.head(6)"
   ]
  },
  {
   "cell_type": "markdown",
   "id": "north-foundation",
   "metadata": {},
   "source": [
    "Conforme visto acima, apenas a função 3 extrapola o limite aceitável"
   ]
  },
  {
   "cell_type": "code",
   "execution_count": 10,
   "id": "verbal-watts",
   "metadata": {},
   "outputs": [
    {
     "data": {
      "text/html": [
       "<div>\n",
       "<style scoped>\n",
       "    .dataframe tbody tr th:only-of-type {\n",
       "        vertical-align: middle;\n",
       "    }\n",
       "\n",
       "    .dataframe tbody tr th {\n",
       "        vertical-align: top;\n",
       "    }\n",
       "\n",
       "    .dataframe thead th {\n",
       "        text-align: right;\n",
       "    }\n",
       "</style>\n",
       "<table border=\"1\" class=\"dataframe\">\n",
       "  <thead>\n",
       "    <tr style=\"text-align: right;\">\n",
       "      <th></th>\n",
       "      <th>date</th>\n",
       "      <th>function_id</th>\n",
       "      <th>real_exe_time</th>\n",
       "    </tr>\n",
       "  </thead>\n",
       "  <tbody>\n",
       "    <tr>\n",
       "      <th>15597</th>\n",
       "      <td>2020-01-01</td>\n",
       "      <td>3</td>\n",
       "      <td>31</td>\n",
       "    </tr>\n",
       "    <tr>\n",
       "      <th>9117</th>\n",
       "      <td>2020-01-01</td>\n",
       "      <td>3</td>\n",
       "      <td>30</td>\n",
       "    </tr>\n",
       "    <tr>\n",
       "      <th>510</th>\n",
       "      <td>2020-01-01</td>\n",
       "      <td>3</td>\n",
       "      <td>33</td>\n",
       "    </tr>\n",
       "    <tr>\n",
       "      <th>15070</th>\n",
       "      <td>2020-01-02</td>\n",
       "      <td>3</td>\n",
       "      <td>38</td>\n",
       "    </tr>\n",
       "    <tr>\n",
       "      <th>11651</th>\n",
       "      <td>2020-01-02</td>\n",
       "      <td>3</td>\n",
       "      <td>36</td>\n",
       "    </tr>\n",
       "  </tbody>\n",
       "</table>\n",
       "</div>"
      ],
      "text/plain": [
       "             date  function_id  real_exe_time\n",
       "15597  2020-01-01            3             31\n",
       "9117   2020-01-01            3             30\n",
       "510    2020-01-01            3             33\n",
       "15070  2020-01-02            3             38\n",
       "11651  2020-01-02            3             36"
      ]
     },
     "execution_count": 10,
     "metadata": {},
     "output_type": "execute_result"
    }
   ],
   "source": [
    "df_inc = get_function_data(df, 3, get_df = True)\n",
    "df_inc.head()"
   ]
  },
  {
   "cell_type": "markdown",
   "id": "geographic-virtue",
   "metadata": {},
   "source": [
    "Foi criado um novo dataset com apenas os dados da função 3, agrupados pela data."
   ]
  },
  {
   "cell_type": "code",
   "execution_count": 11,
   "id": "brown-butter",
   "metadata": {},
   "outputs": [
    {
     "data": {
      "text/html": [
       "<div>\n",
       "<style scoped>\n",
       "    .dataframe tbody tr th:only-of-type {\n",
       "        vertical-align: middle;\n",
       "    }\n",
       "\n",
       "    .dataframe tbody tr th {\n",
       "        vertical-align: top;\n",
       "    }\n",
       "\n",
       "    .dataframe thead th {\n",
       "        text-align: right;\n",
       "    }\n",
       "</style>\n",
       "<table border=\"1\" class=\"dataframe\">\n",
       "  <thead>\n",
       "    <tr style=\"text-align: right;\">\n",
       "      <th></th>\n",
       "      <th>date</th>\n",
       "      <th>function_id</th>\n",
       "      <th>real_exe_time</th>\n",
       "    </tr>\n",
       "  </thead>\n",
       "  <tbody>\n",
       "    <tr>\n",
       "      <th>0</th>\n",
       "      <td>Jan</td>\n",
       "      <td>3</td>\n",
       "      <td>31</td>\n",
       "    </tr>\n",
       "    <tr>\n",
       "      <th>1</th>\n",
       "      <td>Jan</td>\n",
       "      <td>3</td>\n",
       "      <td>30</td>\n",
       "    </tr>\n",
       "    <tr>\n",
       "      <th>2</th>\n",
       "      <td>Jan</td>\n",
       "      <td>3</td>\n",
       "      <td>33</td>\n",
       "    </tr>\n",
       "    <tr>\n",
       "      <th>3</th>\n",
       "      <td>Jan</td>\n",
       "      <td>3</td>\n",
       "      <td>38</td>\n",
       "    </tr>\n",
       "    <tr>\n",
       "      <th>4</th>\n",
       "      <td>Jan</td>\n",
       "      <td>3</td>\n",
       "      <td>36</td>\n",
       "    </tr>\n",
       "  </tbody>\n",
       "</table>\n",
       "</div>"
      ],
      "text/plain": [
       "  date  function_id  real_exe_time\n",
       "0  Jan            3             31\n",
       "1  Jan            3             30\n",
       "2  Jan            3             33\n",
       "3  Jan            3             38\n",
       "4  Jan            3             36"
      ]
     },
     "execution_count": 11,
     "metadata": {},
     "output_type": "execute_result"
    }
   ],
   "source": [
    "date_to_monthName(df_inc)\n",
    "df_inc.reset_index(inplace=True) \n",
    "df_inc.drop(columns=['index'], inplace= True)\n",
    "\n",
    "df_inc.head()"
   ]
  },
  {
   "cell_type": "markdown",
   "id": "likely-somerset",
   "metadata": {},
   "source": [
    "Alterando a data para os nomes do mês para plotar o gráfico em seguida."
   ]
  },
  {
   "cell_type": "markdown",
   "id": "experienced-twenty",
   "metadata": {},
   "source": [
    "# Data Visualization\n",
    "\n",
    "Como os dados vão ser plotados ao longo do tempo foi criado um dataset auxiliar na plotagem do gráfico."
   ]
  },
  {
   "cell_type": "code",
   "execution_count": 12,
   "id": "operating-collector",
   "metadata": {},
   "outputs": [
    {
     "data": {
      "text/html": [
       "<div>\n",
       "<style scoped>\n",
       "    .dataframe tbody tr th:only-of-type {\n",
       "        vertical-align: middle;\n",
       "    }\n",
       "\n",
       "    .dataframe tbody tr th {\n",
       "        vertical-align: top;\n",
       "    }\n",
       "\n",
       "    .dataframe thead th {\n",
       "        text-align: right;\n",
       "    }\n",
       "</style>\n",
       "<table border=\"1\" class=\"dataframe\">\n",
       "  <thead>\n",
       "    <tr style=\"text-align: right;\">\n",
       "      <th></th>\n",
       "      <th>date</th>\n",
       "      <th>mean</th>\n",
       "      <th>mean+30%</th>\n",
       "      <th>mean-30%</th>\n",
       "    </tr>\n",
       "  </thead>\n",
       "  <tbody>\n",
       "    <tr>\n",
       "      <th>0</th>\n",
       "      <td>Abr</td>\n",
       "      <td>33.436441</td>\n",
       "      <td>43.467373</td>\n",
       "      <td>23.405508</td>\n",
       "    </tr>\n",
       "    <tr>\n",
       "      <th>1</th>\n",
       "      <td>Ago</td>\n",
       "      <td>33.119048</td>\n",
       "      <td>43.054762</td>\n",
       "      <td>23.183333</td>\n",
       "    </tr>\n",
       "    <tr>\n",
       "      <th>2</th>\n",
       "      <td>Dez</td>\n",
       "      <td>33.222222</td>\n",
       "      <td>43.188889</td>\n",
       "      <td>23.255556</td>\n",
       "    </tr>\n",
       "    <tr>\n",
       "      <th>3</th>\n",
       "      <td>Fev</td>\n",
       "      <td>33.240506</td>\n",
       "      <td>43.212658</td>\n",
       "      <td>23.268354</td>\n",
       "    </tr>\n",
       "    <tr>\n",
       "      <th>4</th>\n",
       "      <td>Jan</td>\n",
       "      <td>32.740458</td>\n",
       "      <td>42.562595</td>\n",
       "      <td>22.918321</td>\n",
       "    </tr>\n",
       "  </tbody>\n",
       "</table>\n",
       "</div>"
      ],
      "text/plain": [
       "  date       mean   mean+30%   mean-30%\n",
       "0  Abr  33.436441  43.467373  23.405508\n",
       "1  Ago  33.119048  43.054762  23.183333\n",
       "2  Dez  33.222222  43.188889  23.255556\n",
       "3  Fev  33.240506  43.212658  23.268354\n",
       "4  Jan  32.740458  42.562595  22.918321"
      ]
     },
     "execution_count": 12,
     "metadata": {},
     "output_type": "execute_result"
    }
   ],
   "source": [
    "df_agg = df_inc.groupby(\"date\")[\"real_exe_time\"].agg(mean=\"mean\").reset_index()\n",
    "df_agg[\"mean+30%\"] = df_agg[\"mean\"] * 1.3\n",
    "df_agg[\"mean-30%\"] = df_agg[\"mean\"] * 0.7\n",
    "df_agg.head()"
   ]
  },
  {
   "cell_type": "code",
   "execution_count": 14,
   "id": "incoming-venice",
   "metadata": {},
   "outputs": [
    {
     "name": "stderr",
     "output_type": "stream",
     "text": [
      "*c* argument looks like a single numeric RGB or RGBA sequence, which should be avoided as value-mapping will have precedence in case its length matches with *x* & *y*.  Please use the *color* keyword-argument or provide a 2-D array with a single row if you intend to specify the same RGB or RGBA value for all points.\n"
     ]
    },
    {
     "data": {
      "text/plain": [
       "<matplotlib.legend.Legend at 0x17ad6813b48>"
      ]
     },
     "execution_count": 14,
     "metadata": {},
     "output_type": "execute_result"
    },
    {
     "data": {
      "image/png": "[encoded data removed]",
      "text/plain": [
       "<Figure size 432x288 with 1 Axes>"
      ]
     },
     "metadata": {},
     "output_type": "display_data"
    }
   ],
   "source": [
    "warnings.filterwarnings(action='once')\n",
    "ax = df_inc.plot.scatter(x = 'date', y = 'real_exe_time')\n",
    "df_agg.plot(x='date', y=['mean','mean+30%','mean-30%'], ax=ax)\n",
    "\n",
    "plt.legend(loc='center left',bbox_to_anchor=(1.0, 0.5))"
   ]
  },
  {
   "cell_type": "markdown",
   "id": "coastal-console",
   "metadata": {},
   "source": [
    "Como é perceptível, a função 3 varía muito em relação a média em todos os meses do ano."
   ]
  },
  {
   "cell_type": "markdown",
   "id": "manufactured-account",
   "metadata": {},
   "source": [
    "# Resultados e conclusões:\n",
    "* Dentre as 6 funções, apenas a função 3 `accessAnotherThing` vária em relação a média.\n",
    "* A função 3 tende a variar ao longo de **todos** os meses, portanto convém ao departamento de Desenvolvimento otimiza-la."
   ]
  }
 ],
 "metadata": {
  "kernelspec": {
   "display_name": "Python 3",
   "language": "python",
   "name": "python3"
  },
  "language_info": {
   "codemirror_mode": {
    "name": "ipython",
    "version": 3
   },
   "file_extension": ".py",
   "mimetype": "text/x-python",
   "name": "python",
   "nbconvert_exporter": "python",
   "pygments_lexer": "ipython3",
   "version": "3.7.4"
  }
 },
 "nbformat": 4,
 "nbformat_minor": 5
}
