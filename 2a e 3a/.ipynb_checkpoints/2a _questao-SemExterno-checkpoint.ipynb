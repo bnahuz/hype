{
 "cells": [
  {
   "cell_type": "markdown",
   "id": "meaning-lawsuit",
   "metadata": {},
   "source": [
    "<img src=\"assets/logo.png\" alt=\"Drawing\" style=\"width: 300px;\"/>"
   ]
  },
  {
   "cell_type": "markdown",
   "id": "southern-march",
   "metadata": {},
   "source": [
    "A Acme Inc. utiliza um serviço terceirizado de computação distribuída para a execução de diversas funções (código que executa alguma tarefa específica). O modelo de precificação deste fornecedor ocorre de acordo com o tempo que cada função permanece rodando dentro da plataforma."
   ]
  },
  {
   "cell_type": "markdown",
   "id": "identified-cover",
   "metadata": {},
   "source": [
    "# Origem dos dados\n",
    "\n",
    "Esta base de dados faz parte do projeto de Business Case da Hype para a vaga de Estágio em Dados. Todos os dados expostos são fictícios."
   ]
  },
  {
   "cell_type": "markdown",
   "id": "false-trace",
   "metadata": {},
   "source": [
    "# Observações\n",
    "* O modelo de precificação se baseia em custo por milissegundo de execução\n",
    "* O custo é de R$0,000015/milissegundo\n",
    "* O número de milissegundos sempre é arredondado para cima a cada centena, desta forma, uma invocação que leva 33 milissegundos seria cobrada pelo tempo de 100 milissegundos. \n",
    "* Este modelo sofreu uma alteração em 13/06/2020 de forma que não existe mais esse arredondamento e o tempo de execução é sempre igual ao tempo que será cobrado da Acme.\n"
   ]
  },
  {
   "cell_type": "markdown",
   "id": "collective-stereo",
   "metadata": {},
   "source": [
    "# Perguntas que serão respondidas com base na análise:\n",
    "\n",
    "* A) Calcular o custo total que a Acme teve levando em conta toda a base de dados de execuções\n",
    "* B) Calcular quanto a Acme deixou de gastar com a implementação do novo modelo de precificação\n",
    "* C) Calcular qual seria o custo total se todas as transações estivessem no modelo antigo\n",
    "* D) Calcular qual seria o custo total se todas as transações estivessem no modelo novo\n",
    "* Mostrar um gráfico comparativo com os cenários descritos em B, C e D ao longo do tempo.\n"
   ]
  },
  {
   "cell_type": "code",
   "execution_count": 1,
   "id": "capable-climate",
   "metadata": {},
   "outputs": [],
   "source": [
    "import pandas as pd\n",
    "import numpy as np\n",
    "import matplotlib.pyplot as plt\n",
    "%matplotlib inline\n",
    "import seaborn as sns\n",
    "import datetime\n",
    "sns.set()\n",
    "sns.set_theme(style=\"whitegrid\")\n",
    "\n",
    "df = pd.read_csv('executions.csv',index_col= None)\n",
    "df_func = pd.read_csv('functions.csv', index_col=0)\n",
    "tax = 0.000015"
   ]
  },
  {
   "cell_type": "markdown",
   "id": "activated-hormone",
   "metadata": {},
   "source": [
    "# Agora que os dados estão carregados, mudanças serão feitas:\n",
    "* Verificar como os dados estão catalogados.\n",
    "* Criar três novas colunas com base nos resultados esperados\n",
    "* Preencher essas colunas de acordo com as métricas de precificação"
   ]
  },
  {
   "cell_type": "code",
   "execution_count": 2,
   "id": "announced-question",
   "metadata": {},
   "outputs": [
    {
     "data": {
      "text/html": [
       "<div>\n",
       "<style scoped>\n",
       "    .dataframe tbody tr th:only-of-type {\n",
       "        vertical-align: middle;\n",
       "    }\n",
       "\n",
       "    .dataframe tbody tr th {\n",
       "        vertical-align: top;\n",
       "    }\n",
       "\n",
       "    .dataframe thead th {\n",
       "        text-align: right;\n",
       "    }\n",
       "</style>\n",
       "<table border=\"1\" class=\"dataframe\">\n",
       "  <thead>\n",
       "    <tr style=\"text-align: right;\">\n",
       "      <th></th>\n",
       "      <th>id</th>\n",
       "      <th>date</th>\n",
       "      <th>function_id</th>\n",
       "      <th>execution_time</th>\n",
       "    </tr>\n",
       "  </thead>\n",
       "  <tbody>\n",
       "    <tr>\n",
       "      <th>0</th>\n",
       "      <td>6491</td>\n",
       "      <td>2020-05-27</td>\n",
       "      <td>2</td>\n",
       "      <td>373</td>\n",
       "    </tr>\n",
       "    <tr>\n",
       "      <th>1</th>\n",
       "      <td>12540</td>\n",
       "      <td>2020-02-08</td>\n",
       "      <td>4</td>\n",
       "      <td>5806</td>\n",
       "    </tr>\n",
       "    <tr>\n",
       "      <th>2</th>\n",
       "      <td>17756</td>\n",
       "      <td>2020-04-19</td>\n",
       "      <td>5</td>\n",
       "      <td>154</td>\n",
       "    </tr>\n",
       "    <tr>\n",
       "      <th>3</th>\n",
       "      <td>15598</td>\n",
       "      <td>2020-08-26</td>\n",
       "      <td>5</td>\n",
       "      <td>149</td>\n",
       "    </tr>\n",
       "    <tr>\n",
       "      <th>4</th>\n",
       "      <td>5916</td>\n",
       "      <td>2020-01-20</td>\n",
       "      <td>1</td>\n",
       "      <td>257</td>\n",
       "    </tr>\n",
       "  </tbody>\n",
       "</table>\n",
       "</div>"
      ],
      "text/plain": [
       "      id        date  function_id  execution_time\n",
       "0   6491  2020-05-27            2             373\n",
       "1  12540  2020-02-08            4            5806\n",
       "2  17756  2020-04-19            5             154\n",
       "3  15598  2020-08-26            5             149\n",
       "4   5916  2020-01-20            1             257"
      ]
     },
     "execution_count": 2,
     "metadata": {},
     "output_type": "execute_result"
    }
   ],
   "source": [
    "df.head()"
   ]
  },
  {
   "cell_type": "markdown",
   "id": "ranking-homeless",
   "metadata": {},
   "source": [
    "Aqui verifica-se como o Python está tratando esses dados, ou seja, se há algum formato incoerente."
   ]
  },
  {
   "cell_type": "code",
   "execution_count": 3,
   "id": "lucky-pregnancy",
   "metadata": {},
   "outputs": [
    {
     "data": {
      "text/plain": [
       "id                 int64\n",
       "date              object\n",
       "function_id        int64\n",
       "execution_time     int64\n",
       "dtype: object"
      ]
     },
     "execution_count": 3,
     "metadata": {},
     "output_type": "execute_result"
    }
   ],
   "source": [
    "df.dtypes"
   ]
  },
  {
   "cell_type": "markdown",
   "id": "banner-tyler",
   "metadata": {},
   "source": [
    "# Limpeza de dados:\n",
    "A coluna `id` não está em ordem e a coluna `date` está como um objeto, por isso retira-se a coluna `id`, organizando o dataset pela data, transformando-a em tipo `datetime` e transformando-a no indice do dataset"
   ]
  },
  {
   "cell_type": "code",
   "execution_count": 4,
   "id": "listed-staff",
   "metadata": {},
   "outputs": [
    {
     "data": {
      "text/html": [
       "<div>\n",
       "<style scoped>\n",
       "    .dataframe tbody tr th:only-of-type {\n",
       "        vertical-align: middle;\n",
       "    }\n",
       "\n",
       "    .dataframe tbody tr th {\n",
       "        vertical-align: top;\n",
       "    }\n",
       "\n",
       "    .dataframe thead th {\n",
       "        text-align: right;\n",
       "    }\n",
       "</style>\n",
       "<table border=\"1\" class=\"dataframe\">\n",
       "  <thead>\n",
       "    <tr style=\"text-align: right;\">\n",
       "      <th></th>\n",
       "      <th>function_id</th>\n",
       "      <th>execution_time</th>\n",
       "      <th>old_cost</th>\n",
       "      <th>new_cost</th>\n",
       "      <th>real_cost</th>\n",
       "    </tr>\n",
       "    <tr>\n",
       "      <th>date</th>\n",
       "      <th></th>\n",
       "      <th></th>\n",
       "      <th></th>\n",
       "      <th></th>\n",
       "      <th></th>\n",
       "    </tr>\n",
       "  </thead>\n",
       "  <tbody>\n",
       "    <tr>\n",
       "      <th>2020-01-01</th>\n",
       "      <td>1</td>\n",
       "      <td>256</td>\n",
       "      <td>0</td>\n",
       "      <td>0</td>\n",
       "      <td>0</td>\n",
       "    </tr>\n",
       "    <tr>\n",
       "      <th>2020-01-01</th>\n",
       "      <td>0</td>\n",
       "      <td>59</td>\n",
       "      <td>0</td>\n",
       "      <td>0</td>\n",
       "      <td>0</td>\n",
       "    </tr>\n",
       "    <tr>\n",
       "      <th>2020-01-01</th>\n",
       "      <td>1</td>\n",
       "      <td>255</td>\n",
       "      <td>0</td>\n",
       "      <td>0</td>\n",
       "      <td>0</td>\n",
       "    </tr>\n",
       "    <tr>\n",
       "      <th>2020-01-01</th>\n",
       "      <td>4</td>\n",
       "      <td>5646</td>\n",
       "      <td>0</td>\n",
       "      <td>0</td>\n",
       "      <td>0</td>\n",
       "    </tr>\n",
       "    <tr>\n",
       "      <th>2020-01-01</th>\n",
       "      <td>0</td>\n",
       "      <td>68</td>\n",
       "      <td>0</td>\n",
       "      <td>0</td>\n",
       "      <td>0</td>\n",
       "    </tr>\n",
       "  </tbody>\n",
       "</table>\n",
       "</div>"
      ],
      "text/plain": [
       "            function_id  execution_time  old_cost  new_cost  real_cost\n",
       "date                                                                  \n",
       "2020-01-01            1             256         0         0          0\n",
       "2020-01-01            0              59         0         0          0\n",
       "2020-01-01            1             255         0         0          0\n",
       "2020-01-01            4            5646         0         0          0\n",
       "2020-01-01            0              68         0         0          0"
      ]
     },
     "execution_count": 4,
     "metadata": {},
     "output_type": "execute_result"
    }
   ],
   "source": [
    "df.sort_values(by = ['date'], inplace= True)\n",
    "df.index = pd.to_datetime(df['date'])\n",
    "df.drop(['id', 'date'], axis=1, inplace = True)\n",
    "df['old_cost'] = 0\n",
    "df['new_cost'] = 0\n",
    "df['real_cost'] = 0\n",
    "df.head()"
   ]
  },
  {
   "cell_type": "markdown",
   "id": "separated-rogers",
   "metadata": {},
   "source": [
    "Verificando como está o dataset que representa as funções"
   ]
  },
  {
   "cell_type": "code",
   "execution_count": 5,
   "id": "heard-berry",
   "metadata": {
    "scrolled": true
   },
   "outputs": [
    {
     "data": {
      "text/html": [
       "<div>\n",
       "<style scoped>\n",
       "    .dataframe tbody tr th:only-of-type {\n",
       "        vertical-align: middle;\n",
       "    }\n",
       "\n",
       "    .dataframe tbody tr th {\n",
       "        vertical-align: top;\n",
       "    }\n",
       "\n",
       "    .dataframe thead th {\n",
       "        text-align: right;\n",
       "    }\n",
       "</style>\n",
       "<table border=\"1\" class=\"dataframe\">\n",
       "  <thead>\n",
       "    <tr style=\"text-align: right;\">\n",
       "      <th></th>\n",
       "      <th>function_name</th>\n",
       "      <th>external_component_avg_latency</th>\n",
       "      <th>has_external_component</th>\n",
       "    </tr>\n",
       "    <tr>\n",
       "      <th>id</th>\n",
       "      <th></th>\n",
       "      <th></th>\n",
       "      <th></th>\n",
       "    </tr>\n",
       "  </thead>\n",
       "  <tbody>\n",
       "    <tr>\n",
       "      <th>2</th>\n",
       "      <td>doThatThing</td>\n",
       "      <td>0</td>\n",
       "      <td>False</td>\n",
       "    </tr>\n",
       "    <tr>\n",
       "      <th>1</th>\n",
       "      <td>doThisThing</td>\n",
       "      <td>30</td>\n",
       "      <td>True</td>\n",
       "    </tr>\n",
       "    <tr>\n",
       "      <th>3</th>\n",
       "      <td>accessAnotherThing</td>\n",
       "      <td>1000</td>\n",
       "      <td>True</td>\n",
       "    </tr>\n",
       "    <tr>\n",
       "      <th>5</th>\n",
       "      <td>fetchThisMetadata</td>\n",
       "      <td>20</td>\n",
       "      <td>True</td>\n",
       "    </tr>\n",
       "    <tr>\n",
       "      <th>4</th>\n",
       "      <td>sendAFile</td>\n",
       "      <td>2500</td>\n",
       "      <td>True</td>\n",
       "    </tr>\n",
       "    <tr>\n",
       "      <th>0</th>\n",
       "      <td>checkSomething</td>\n",
       "      <td>0</td>\n",
       "      <td>False</td>\n",
       "    </tr>\n",
       "  </tbody>\n",
       "</table>\n",
       "</div>"
      ],
      "text/plain": [
       "         function_name  external_component_avg_latency  has_external_component\n",
       "id                                                                            \n",
       "2          doThatThing                               0                   False\n",
       "1          doThisThing                              30                    True\n",
       "3   accessAnotherThing                            1000                    True\n",
       "5    fetchThisMetadata                              20                    True\n",
       "4            sendAFile                            2500                    True\n",
       "0       checkSomething                               0                   False"
      ]
     },
     "execution_count": 5,
     "metadata": {},
     "output_type": "execute_result"
    }
   ],
   "source": [
    "df_func"
   ]
  },
  {
   "cell_type": "markdown",
   "id": "collaborative-kentucky",
   "metadata": {},
   "source": [
    "Tudo ok! "
   ]
  },
  {
   "cell_type": "markdown",
   "id": "dynamic-smith",
   "metadata": {},
   "source": [
    "Como será necessário consultar o tempo de latência de funções que utilizam componentes externos convém criar uma função para retornar esse valor.\n",
    "\n",
    "Também será criada uma função para renomear a data para o mês daquele registro. Uma vez que iremos analisar os dados por **mês** e assim podemos agrupá-los somando os seus valores."
   ]
  },
  {
   "cell_type": "code",
   "execution_count": 29,
   "id": "reflected-briefs",
   "metadata": {},
   "outputs": [],
   "source": [
    "def get_function_latency(id):\n",
    "    return df_func.external_component_avg_latency[id] \n",
    "\n",
    "def date_to_monthName(df):\n",
    "    for index in df.index:\n",
    "        if '2020-01-01' <=df.loc[index,'date'] <= '2020-01-31':\n",
    "            df.loc[index,'date'] = '01-Jan'\n",
    "        elif '2020-02-01' <=df.loc[index,'date'] <= '2020-02-31':\n",
    "            df.loc[index,'date'] = '02-Fev'\n",
    "        elif '2020-03-01' <=df.loc[index,'date'] <= '2020-03-31':\n",
    "            df.loc[index,'date'] = '03-Mar'\n",
    "        elif '2020-04-01' <=df.loc[index,'date'] <= '2020-04-31':\n",
    "            df.loc[index,'date'] = '04-Abr'\n",
    "        elif '2020-05-01' <=df.loc[index,'date'] <= '2020-05-31':\n",
    "            df.loc[index,'date'] = '05-Mai'\n",
    "        elif '2020-06-01' <=df.loc[index,'date'] <= '2020-06-31':\n",
    "            df.loc[index,'date'] = '06-Jun'\n",
    "        elif '2020-07-01' <=df.loc[index,'date'] <= '2020-07-31':\n",
    "            df.loc[index,'date'] = '07-Jul'\n",
    "        elif '2020-08-01' <=df.loc[index,'date'] <= '2020-08-31':\n",
    "            df.loc[index,'date'] = '08-Ago'\n",
    "        elif '2020-09-01' <=df.loc[index,'date'] <= '2020-09-31':\n",
    "            df.loc[index,'date'] = '09-Set'\n",
    "        elif '2020-10-01' <=df.loc[index,'date'] <= '2020-10-31':\n",
    "            df.loc[index,'date'] = '10-Out'\n",
    "        elif '2020-11-01' <=df.loc[index,'date'] <= '2020-11-31':\n",
    "            df.loc[index,'date'] = '11-Nov'\n",
    "        else:\n",
    "            df.loc[index,'date'] = '12-Dez'\n",
    "            \n"
   ]
  },
  {
   "cell_type": "markdown",
   "id": "orange-doubt",
   "metadata": {},
   "source": [
    "Aqui vamos fazer duas coisas:\n",
    "* Utilizar a função `get_function_latency` para popular cada linha com a latência referenciada pela coluna `function_id` e subtrair o valor com a coluna `execution_time` fazendo o cálculo da taxa por milissegundo."
   ]
  },
  {
   "cell_type": "code",
   "execution_count": 30,
   "id": "romance-baking",
   "metadata": {},
   "outputs": [],
   "source": [
    "df.new_cost = (df.execution_time) * tax\n",
    "df.old_cost = ((df.execution_time + 100)//100) * 100 * tax"
   ]
  },
  {
   "cell_type": "code",
   "execution_count": 8,
   "id": "numerous-blink",
   "metadata": {},
   "outputs": [
    {
     "data": {
      "text/html": [
       "<div>\n",
       "<style scoped>\n",
       "    .dataframe tbody tr th:only-of-type {\n",
       "        vertical-align: middle;\n",
       "    }\n",
       "\n",
       "    .dataframe tbody tr th {\n",
       "        vertical-align: top;\n",
       "    }\n",
       "\n",
       "    .dataframe thead th {\n",
       "        text-align: right;\n",
       "    }\n",
       "</style>\n",
       "<table border=\"1\" class=\"dataframe\">\n",
       "  <thead>\n",
       "    <tr style=\"text-align: right;\">\n",
       "      <th></th>\n",
       "      <th>function_id</th>\n",
       "      <th>execution_time</th>\n",
       "      <th>old_cost</th>\n",
       "      <th>new_cost</th>\n",
       "      <th>real_cost</th>\n",
       "    </tr>\n",
       "    <tr>\n",
       "      <th>date</th>\n",
       "      <th></th>\n",
       "      <th></th>\n",
       "      <th></th>\n",
       "      <th></th>\n",
       "      <th></th>\n",
       "    </tr>\n",
       "  </thead>\n",
       "  <tbody>\n",
       "    <tr>\n",
       "      <th>2020-01-01</th>\n",
       "      <td>1</td>\n",
       "      <td>256</td>\n",
       "      <td>0.0045</td>\n",
       "      <td>0.003840</td>\n",
       "      <td>0</td>\n",
       "    </tr>\n",
       "    <tr>\n",
       "      <th>2020-01-01</th>\n",
       "      <td>0</td>\n",
       "      <td>59</td>\n",
       "      <td>0.0015</td>\n",
       "      <td>0.000885</td>\n",
       "      <td>0</td>\n",
       "    </tr>\n",
       "    <tr>\n",
       "      <th>2020-01-01</th>\n",
       "      <td>1</td>\n",
       "      <td>255</td>\n",
       "      <td>0.0045</td>\n",
       "      <td>0.003825</td>\n",
       "      <td>0</td>\n",
       "    </tr>\n",
       "    <tr>\n",
       "      <th>2020-01-01</th>\n",
       "      <td>4</td>\n",
       "      <td>5646</td>\n",
       "      <td>0.0855</td>\n",
       "      <td>0.084690</td>\n",
       "      <td>0</td>\n",
       "    </tr>\n",
       "    <tr>\n",
       "      <th>2020-01-01</th>\n",
       "      <td>0</td>\n",
       "      <td>68</td>\n",
       "      <td>0.0015</td>\n",
       "      <td>0.001020</td>\n",
       "      <td>0</td>\n",
       "    </tr>\n",
       "  </tbody>\n",
       "</table>\n",
       "</div>"
      ],
      "text/plain": [
       "            function_id  execution_time  old_cost  new_cost  real_cost\n",
       "date                                                                  \n",
       "2020-01-01            1             256    0.0045  0.003840          0\n",
       "2020-01-01            0              59    0.0015  0.000885          0\n",
       "2020-01-01            1             255    0.0045  0.003825          0\n",
       "2020-01-01            4            5646    0.0855  0.084690          0\n",
       "2020-01-01            0              68    0.0015  0.001020          0"
      ]
     },
     "execution_count": 8,
     "metadata": {},
     "output_type": "execute_result"
    }
   ],
   "source": [
    "df.head()"
   ]
  },
  {
   "cell_type": "markdown",
   "id": "informed-freight",
   "metadata": {},
   "source": [
    "Como o gasto real leva em consideração os valores do novo modelo(sem arredondamento) a partir de 13 de junho de 2020, foi dividida a tabela em dois grupos, um do inicio do ano até dia 12 de junho e outra a partir do dia 13 de junnho."
   ]
  },
  {
   "cell_type": "code",
   "execution_count": 9,
   "id": "regular-roman",
   "metadata": {},
   "outputs": [],
   "source": [
    "split_date = np.datetime64('2020-06-13')\n",
    "df_before = df.copy()\n",
    "df_before = df_before.loc[df.index < split_date]\n",
    "df_before.real_cost = df_before.old_cost\n",
    "df_after = df.copy()\n",
    "df_after = df_after.loc[df.index >= split_date]\n",
    "df_after.real_cost = df_after.new_cost"
   ]
  },
  {
   "cell_type": "code",
   "execution_count": 10,
   "id": "mineral-flexibility",
   "metadata": {
    "scrolled": false
   },
   "outputs": [
    {
     "data": {
      "text/html": [
       "<div>\n",
       "<style scoped>\n",
       "    .dataframe tbody tr th:only-of-type {\n",
       "        vertical-align: middle;\n",
       "    }\n",
       "\n",
       "    .dataframe tbody tr th {\n",
       "        vertical-align: top;\n",
       "    }\n",
       "\n",
       "    .dataframe thead th {\n",
       "        text-align: right;\n",
       "    }\n",
       "</style>\n",
       "<table border=\"1\" class=\"dataframe\">\n",
       "  <thead>\n",
       "    <tr style=\"text-align: right;\">\n",
       "      <th></th>\n",
       "      <th>function_id</th>\n",
       "      <th>execution_time</th>\n",
       "      <th>old_cost</th>\n",
       "      <th>new_cost</th>\n",
       "      <th>real_cost</th>\n",
       "    </tr>\n",
       "    <tr>\n",
       "      <th>date</th>\n",
       "      <th></th>\n",
       "      <th></th>\n",
       "      <th></th>\n",
       "      <th></th>\n",
       "      <th></th>\n",
       "    </tr>\n",
       "  </thead>\n",
       "  <tbody>\n",
       "    <tr>\n",
       "      <th>2020-06-12</th>\n",
       "      <td>3</td>\n",
       "      <td>1027</td>\n",
       "      <td>0.0165</td>\n",
       "      <td>0.015405</td>\n",
       "      <td>0.0165</td>\n",
       "    </tr>\n",
       "    <tr>\n",
       "      <th>2020-06-12</th>\n",
       "      <td>3</td>\n",
       "      <td>1021</td>\n",
       "      <td>0.0165</td>\n",
       "      <td>0.015315</td>\n",
       "      <td>0.0165</td>\n",
       "    </tr>\n",
       "    <tr>\n",
       "      <th>2020-06-12</th>\n",
       "      <td>2</td>\n",
       "      <td>273</td>\n",
       "      <td>0.0045</td>\n",
       "      <td>0.004095</td>\n",
       "      <td>0.0045</td>\n",
       "    </tr>\n",
       "    <tr>\n",
       "      <th>2020-06-12</th>\n",
       "      <td>5</td>\n",
       "      <td>152</td>\n",
       "      <td>0.0030</td>\n",
       "      <td>0.002280</td>\n",
       "      <td>0.0030</td>\n",
       "    </tr>\n",
       "    <tr>\n",
       "      <th>2020-06-12</th>\n",
       "      <td>4</td>\n",
       "      <td>5854</td>\n",
       "      <td>0.0885</td>\n",
       "      <td>0.087810</td>\n",
       "      <td>0.0885</td>\n",
       "    </tr>\n",
       "  </tbody>\n",
       "</table>\n",
       "</div>"
      ],
      "text/plain": [
       "            function_id  execution_time  old_cost  new_cost  real_cost\n",
       "date                                                                  \n",
       "2020-06-12            3            1027    0.0165  0.015405     0.0165\n",
       "2020-06-12            3            1021    0.0165  0.015315     0.0165\n",
       "2020-06-12            2             273    0.0045  0.004095     0.0045\n",
       "2020-06-12            5             152    0.0030  0.002280     0.0030\n",
       "2020-06-12            4            5854    0.0885  0.087810     0.0885"
      ]
     },
     "execution_count": 10,
     "metadata": {},
     "output_type": "execute_result"
    }
   ],
   "source": [
    "df_before.tail()"
   ]
  },
  {
   "cell_type": "code",
   "execution_count": 11,
   "id": "tamil-gauge",
   "metadata": {
    "scrolled": false
   },
   "outputs": [
    {
     "data": {
      "text/html": [
       "<div>\n",
       "<style scoped>\n",
       "    .dataframe tbody tr th:only-of-type {\n",
       "        vertical-align: middle;\n",
       "    }\n",
       "\n",
       "    .dataframe tbody tr th {\n",
       "        vertical-align: top;\n",
       "    }\n",
       "\n",
       "    .dataframe thead th {\n",
       "        text-align: right;\n",
       "    }\n",
       "</style>\n",
       "<table border=\"1\" class=\"dataframe\">\n",
       "  <thead>\n",
       "    <tr style=\"text-align: right;\">\n",
       "      <th></th>\n",
       "      <th>function_id</th>\n",
       "      <th>execution_time</th>\n",
       "      <th>old_cost</th>\n",
       "      <th>new_cost</th>\n",
       "      <th>real_cost</th>\n",
       "    </tr>\n",
       "    <tr>\n",
       "      <th>date</th>\n",
       "      <th></th>\n",
       "      <th></th>\n",
       "      <th></th>\n",
       "      <th></th>\n",
       "      <th></th>\n",
       "    </tr>\n",
       "  </thead>\n",
       "  <tbody>\n",
       "    <tr>\n",
       "      <th>2020-06-13</th>\n",
       "      <td>5</td>\n",
       "      <td>147</td>\n",
       "      <td>0.0030</td>\n",
       "      <td>0.002205</td>\n",
       "      <td>0.002205</td>\n",
       "    </tr>\n",
       "    <tr>\n",
       "      <th>2020-06-13</th>\n",
       "      <td>0</td>\n",
       "      <td>55</td>\n",
       "      <td>0.0015</td>\n",
       "      <td>0.000825</td>\n",
       "      <td>0.000825</td>\n",
       "    </tr>\n",
       "    <tr>\n",
       "      <th>2020-06-13</th>\n",
       "      <td>3</td>\n",
       "      <td>1032</td>\n",
       "      <td>0.0165</td>\n",
       "      <td>0.015480</td>\n",
       "      <td>0.015480</td>\n",
       "    </tr>\n",
       "    <tr>\n",
       "      <th>2020-06-13</th>\n",
       "      <td>3</td>\n",
       "      <td>1029</td>\n",
       "      <td>0.0165</td>\n",
       "      <td>0.015435</td>\n",
       "      <td>0.015435</td>\n",
       "    </tr>\n",
       "    <tr>\n",
       "      <th>2020-06-13</th>\n",
       "      <td>4</td>\n",
       "      <td>6018</td>\n",
       "      <td>0.0915</td>\n",
       "      <td>0.090270</td>\n",
       "      <td>0.090270</td>\n",
       "    </tr>\n",
       "  </tbody>\n",
       "</table>\n",
       "</div>"
      ],
      "text/plain": [
       "            function_id  execution_time  old_cost  new_cost  real_cost\n",
       "date                                                                  \n",
       "2020-06-13            5             147    0.0030  0.002205   0.002205\n",
       "2020-06-13            0              55    0.0015  0.000825   0.000825\n",
       "2020-06-13            3            1032    0.0165  0.015480   0.015480\n",
       "2020-06-13            3            1029    0.0165  0.015435   0.015435\n",
       "2020-06-13            4            6018    0.0915  0.090270   0.090270"
      ]
     },
     "execution_count": 11,
     "metadata": {},
     "output_type": "execute_result"
    }
   ],
   "source": [
    "df_after.head()"
   ]
  },
  {
   "cell_type": "markdown",
   "id": "curious-covering",
   "metadata": {},
   "source": [
    "Agora é feita a união desses dois datasets"
   ]
  },
  {
   "cell_type": "code",
   "execution_count": 12,
   "id": "prerequisite-venture",
   "metadata": {},
   "outputs": [
    {
     "data": {
      "text/html": [
       "<div>\n",
       "<style scoped>\n",
       "    .dataframe tbody tr th:only-of-type {\n",
       "        vertical-align: middle;\n",
       "    }\n",
       "\n",
       "    .dataframe tbody tr th {\n",
       "        vertical-align: top;\n",
       "    }\n",
       "\n",
       "    .dataframe thead th {\n",
       "        text-align: right;\n",
       "    }\n",
       "</style>\n",
       "<table border=\"1\" class=\"dataframe\">\n",
       "  <thead>\n",
       "    <tr style=\"text-align: right;\">\n",
       "      <th></th>\n",
       "      <th>function_id</th>\n",
       "      <th>execution_time</th>\n",
       "      <th>old_cost</th>\n",
       "      <th>new_cost</th>\n",
       "      <th>real_cost</th>\n",
       "    </tr>\n",
       "    <tr>\n",
       "      <th>date</th>\n",
       "      <th></th>\n",
       "      <th></th>\n",
       "      <th></th>\n",
       "      <th></th>\n",
       "      <th></th>\n",
       "    </tr>\n",
       "  </thead>\n",
       "  <tbody>\n",
       "    <tr>\n",
       "      <th>2020-01-01</th>\n",
       "      <td>1</td>\n",
       "      <td>256</td>\n",
       "      <td>0.0045</td>\n",
       "      <td>0.003840</td>\n",
       "      <td>0.0045</td>\n",
       "    </tr>\n",
       "    <tr>\n",
       "      <th>2020-01-01</th>\n",
       "      <td>0</td>\n",
       "      <td>59</td>\n",
       "      <td>0.0015</td>\n",
       "      <td>0.000885</td>\n",
       "      <td>0.0015</td>\n",
       "    </tr>\n",
       "    <tr>\n",
       "      <th>2020-01-01</th>\n",
       "      <td>1</td>\n",
       "      <td>255</td>\n",
       "      <td>0.0045</td>\n",
       "      <td>0.003825</td>\n",
       "      <td>0.0045</td>\n",
       "    </tr>\n",
       "    <tr>\n",
       "      <th>2020-01-01</th>\n",
       "      <td>4</td>\n",
       "      <td>5646</td>\n",
       "      <td>0.0855</td>\n",
       "      <td>0.084690</td>\n",
       "      <td>0.0855</td>\n",
       "    </tr>\n",
       "    <tr>\n",
       "      <th>2020-01-01</th>\n",
       "      <td>0</td>\n",
       "      <td>68</td>\n",
       "      <td>0.0015</td>\n",
       "      <td>0.001020</td>\n",
       "      <td>0.0015</td>\n",
       "    </tr>\n",
       "  </tbody>\n",
       "</table>\n",
       "</div>"
      ],
      "text/plain": [
       "            function_id  execution_time  old_cost  new_cost  real_cost\n",
       "date                                                                  \n",
       "2020-01-01            1             256    0.0045  0.003840     0.0045\n",
       "2020-01-01            0              59    0.0015  0.000885     0.0015\n",
       "2020-01-01            1             255    0.0045  0.003825     0.0045\n",
       "2020-01-01            4            5646    0.0855  0.084690     0.0855\n",
       "2020-01-01            0              68    0.0015  0.001020     0.0015"
      ]
     },
     "execution_count": 12,
     "metadata": {},
     "output_type": "execute_result"
    }
   ],
   "source": [
    "df_total = df_before.append(df_after)\n",
    "df_total.head()"
   ]
  },
  {
   "cell_type": "markdown",
   "id": "august-clerk",
   "metadata": {},
   "source": [
    "Foram agrupados todos os dias iguais e somado seus valores"
   ]
  },
  {
   "cell_type": "code",
   "execution_count": 13,
   "id": "junior-province",
   "metadata": {},
   "outputs": [
    {
     "data": {
      "text/html": [
       "<div>\n",
       "<style scoped>\n",
       "    .dataframe tbody tr th:only-of-type {\n",
       "        vertical-align: middle;\n",
       "    }\n",
       "\n",
       "    .dataframe tbody tr th {\n",
       "        vertical-align: top;\n",
       "    }\n",
       "\n",
       "    .dataframe thead th {\n",
       "        text-align: right;\n",
       "    }\n",
       "</style>\n",
       "<table border=\"1\" class=\"dataframe\">\n",
       "  <thead>\n",
       "    <tr style=\"text-align: right;\">\n",
       "      <th></th>\n",
       "      <th>date</th>\n",
       "      <th>function_id</th>\n",
       "      <th>execution_time</th>\n",
       "      <th>old_cost</th>\n",
       "      <th>new_cost</th>\n",
       "      <th>real_cost</th>\n",
       "    </tr>\n",
       "  </thead>\n",
       "  <tbody>\n",
       "    <tr>\n",
       "      <th>361</th>\n",
       "      <td>2020-12-27</td>\n",
       "      <td>115</td>\n",
       "      <td>47635</td>\n",
       "      <td>0.7485</td>\n",
       "      <td>0.714525</td>\n",
       "      <td>0.714525</td>\n",
       "    </tr>\n",
       "    <tr>\n",
       "      <th>362</th>\n",
       "      <td>2020-12-28</td>\n",
       "      <td>139</td>\n",
       "      <td>77623</td>\n",
       "      <td>1.2090</td>\n",
       "      <td>1.164345</td>\n",
       "      <td>1.164345</td>\n",
       "    </tr>\n",
       "    <tr>\n",
       "      <th>363</th>\n",
       "      <td>2020-12-29</td>\n",
       "      <td>144</td>\n",
       "      <td>110948</td>\n",
       "      <td>1.6995</td>\n",
       "      <td>1.664220</td>\n",
       "      <td>1.664220</td>\n",
       "    </tr>\n",
       "    <tr>\n",
       "      <th>364</th>\n",
       "      <td>2020-12-30</td>\n",
       "      <td>188</td>\n",
       "      <td>140387</td>\n",
       "      <td>2.1570</td>\n",
       "      <td>2.105805</td>\n",
       "      <td>2.105805</td>\n",
       "    </tr>\n",
       "    <tr>\n",
       "      <th>365</th>\n",
       "      <td>2020-12-31</td>\n",
       "      <td>65</td>\n",
       "      <td>33198</td>\n",
       "      <td>0.5235</td>\n",
       "      <td>0.497970</td>\n",
       "      <td>0.497970</td>\n",
       "    </tr>\n",
       "  </tbody>\n",
       "</table>\n",
       "</div>"
      ],
      "text/plain": [
       "          date  function_id  execution_time  old_cost  new_cost  real_cost\n",
       "361 2020-12-27          115           47635    0.7485  0.714525   0.714525\n",
       "362 2020-12-28          139           77623    1.2090  1.164345   1.164345\n",
       "363 2020-12-29          144          110948    1.6995  1.664220   1.664220\n",
       "364 2020-12-30          188          140387    2.1570  2.105805   2.105805\n",
       "365 2020-12-31           65           33198    0.5235  0.497970   0.497970"
      ]
     },
     "execution_count": 13,
     "metadata": {},
     "output_type": "execute_result"
    }
   ],
   "source": [
    "df_days = df_total.groupby('date').sum().reset_index()\n",
    "df_days.tail()"
   ]
  },
  {
   "cell_type": "markdown",
   "id": "taken-brain",
   "metadata": {},
   "source": [
    "Como dito anteriormente os dados foram agrupados por mês.\n",
    "A coluna `date` foi alterada para `string` para ser possível rodar a função `date_to_monthName`"
   ]
  },
  {
   "cell_type": "code",
   "execution_count": 14,
   "id": "emotional-closing",
   "metadata": {},
   "outputs": [],
   "source": [
    "df_months = df_days.copy()\n",
    "df_months = df_months.astype({\"date\": str})\n",
    "date_to_monthName(df_months)"
   ]
  },
  {
   "cell_type": "code",
   "execution_count": 15,
   "id": "missing-minute",
   "metadata": {},
   "outputs": [
    {
     "data": {
      "text/html": [
       "<div>\n",
       "<style scoped>\n",
       "    .dataframe tbody tr th:only-of-type {\n",
       "        vertical-align: middle;\n",
       "    }\n",
       "\n",
       "    .dataframe tbody tr th {\n",
       "        vertical-align: top;\n",
       "    }\n",
       "\n",
       "    .dataframe thead th {\n",
       "        text-align: right;\n",
       "    }\n",
       "</style>\n",
       "<table border=\"1\" class=\"dataframe\">\n",
       "  <thead>\n",
       "    <tr style=\"text-align: right;\">\n",
       "      <th></th>\n",
       "      <th>date</th>\n",
       "      <th>function_id</th>\n",
       "      <th>execution_time</th>\n",
       "      <th>old_cost</th>\n",
       "      <th>new_cost</th>\n",
       "      <th>real_cost</th>\n",
       "    </tr>\n",
       "  </thead>\n",
       "  <tbody>\n",
       "    <tr>\n",
       "      <th>0</th>\n",
       "      <td>01-Jan</td>\n",
       "      <td>91</td>\n",
       "      <td>34070</td>\n",
       "      <td>0.5445</td>\n",
       "      <td>0.511050</td>\n",
       "      <td>0.5445</td>\n",
       "    </tr>\n",
       "    <tr>\n",
       "      <th>1</th>\n",
       "      <td>01-Jan</td>\n",
       "      <td>131</td>\n",
       "      <td>54700</td>\n",
       "      <td>0.8565</td>\n",
       "      <td>0.820500</td>\n",
       "      <td>0.8565</td>\n",
       "    </tr>\n",
       "    <tr>\n",
       "      <th>2</th>\n",
       "      <td>01-Jan</td>\n",
       "      <td>141</td>\n",
       "      <td>39131</td>\n",
       "      <td>0.6360</td>\n",
       "      <td>0.586965</td>\n",
       "      <td>0.6360</td>\n",
       "    </tr>\n",
       "    <tr>\n",
       "      <th>3</th>\n",
       "      <td>01-Jan</td>\n",
       "      <td>89</td>\n",
       "      <td>38272</td>\n",
       "      <td>0.6060</td>\n",
       "      <td>0.574080</td>\n",
       "      <td>0.6060</td>\n",
       "    </tr>\n",
       "    <tr>\n",
       "      <th>4</th>\n",
       "      <td>01-Jan</td>\n",
       "      <td>96</td>\n",
       "      <td>36633</td>\n",
       "      <td>0.5850</td>\n",
       "      <td>0.549495</td>\n",
       "      <td>0.5850</td>\n",
       "    </tr>\n",
       "  </tbody>\n",
       "</table>\n",
       "</div>"
      ],
      "text/plain": [
       "     date  function_id  execution_time  old_cost  new_cost  real_cost\n",
       "0  01-Jan           91           34070    0.5445  0.511050     0.5445\n",
       "1  01-Jan          131           54700    0.8565  0.820500     0.8565\n",
       "2  01-Jan          141           39131    0.6360  0.586965     0.6360\n",
       "3  01-Jan           89           38272    0.6060  0.574080     0.6060\n",
       "4  01-Jan           96           36633    0.5850  0.549495     0.5850"
      ]
     },
     "execution_count": 15,
     "metadata": {},
     "output_type": "execute_result"
    }
   ],
   "source": [
    "df_months.head()"
   ]
  },
  {
   "cell_type": "markdown",
   "id": "prime-stereo",
   "metadata": {},
   "source": [
    "Aqui foi feita a mesma operação de antes, o dataset teve seus valores somados e agrupado pelos meses. Como os dados já estão agrupados as colunas `function_id` e `execution_time` foram retiradas."
   ]
  },
  {
   "cell_type": "code",
   "execution_count": 16,
   "id": "alert-notification",
   "metadata": {},
   "outputs": [],
   "source": [
    "df_months = df_months.groupby('date').sum()\n",
    "df_months.sort_values(by = ['date'], inplace= True)\n",
    "df_months.drop(columns=['function_id','execution_time'], inplace= True)"
   ]
  },
  {
   "cell_type": "code",
   "execution_count": 17,
   "id": "neither-suspension",
   "metadata": {},
   "outputs": [
    {
     "data": {
      "text/html": [
       "<div>\n",
       "<style scoped>\n",
       "    .dataframe tbody tr th:only-of-type {\n",
       "        vertical-align: middle;\n",
       "    }\n",
       "\n",
       "    .dataframe tbody tr th {\n",
       "        vertical-align: top;\n",
       "    }\n",
       "\n",
       "    .dataframe thead th {\n",
       "        text-align: right;\n",
       "    }\n",
       "</style>\n",
       "<table border=\"1\" class=\"dataframe\">\n",
       "  <thead>\n",
       "    <tr style=\"text-align: right;\">\n",
       "      <th></th>\n",
       "      <th>old_cost</th>\n",
       "      <th>new_cost</th>\n",
       "      <th>real_cost</th>\n",
       "    </tr>\n",
       "    <tr>\n",
       "      <th>date</th>\n",
       "      <th></th>\n",
       "      <th></th>\n",
       "      <th></th>\n",
       "    </tr>\n",
       "  </thead>\n",
       "  <tbody>\n",
       "    <tr>\n",
       "      <th>01-Jan</th>\n",
       "      <td>27.2130</td>\n",
       "      <td>26.046870</td>\n",
       "      <td>27.213000</td>\n",
       "    </tr>\n",
       "    <tr>\n",
       "      <th>02-Fev</th>\n",
       "      <td>29.0955</td>\n",
       "      <td>27.967920</td>\n",
       "      <td>29.095500</td>\n",
       "    </tr>\n",
       "    <tr>\n",
       "      <th>03-Mar</th>\n",
       "      <td>32.3430</td>\n",
       "      <td>31.158945</td>\n",
       "      <td>32.343000</td>\n",
       "    </tr>\n",
       "    <tr>\n",
       "      <th>04-Abr</th>\n",
       "      <td>28.9800</td>\n",
       "      <td>27.855735</td>\n",
       "      <td>28.980000</td>\n",
       "    </tr>\n",
       "    <tr>\n",
       "      <th>05-Mai</th>\n",
       "      <td>31.0995</td>\n",
       "      <td>29.910180</td>\n",
       "      <td>31.099500</td>\n",
       "    </tr>\n",
       "    <tr>\n",
       "      <th>06-Jun</th>\n",
       "      <td>28.8480</td>\n",
       "      <td>27.700095</td>\n",
       "      <td>28.144575</td>\n",
       "    </tr>\n",
       "    <tr>\n",
       "      <th>07-Jul</th>\n",
       "      <td>29.4030</td>\n",
       "      <td>28.238595</td>\n",
       "      <td>28.238595</td>\n",
       "    </tr>\n",
       "    <tr>\n",
       "      <th>08-Ago</th>\n",
       "      <td>30.4125</td>\n",
       "      <td>29.222610</td>\n",
       "      <td>29.222610</td>\n",
       "    </tr>\n",
       "    <tr>\n",
       "      <th>09-Set</th>\n",
       "      <td>27.7710</td>\n",
       "      <td>26.690565</td>\n",
       "      <td>26.690565</td>\n",
       "    </tr>\n",
       "    <tr>\n",
       "      <th>10-Out</th>\n",
       "      <td>29.3670</td>\n",
       "      <td>28.245480</td>\n",
       "      <td>28.245480</td>\n",
       "    </tr>\n",
       "    <tr>\n",
       "      <th>11-Nov</th>\n",
       "      <td>31.9005</td>\n",
       "      <td>30.722265</td>\n",
       "      <td>30.722265</td>\n",
       "    </tr>\n",
       "    <tr>\n",
       "      <th>12-Dez</th>\n",
       "      <td>31.0890</td>\n",
       "      <td>29.915670</td>\n",
       "      <td>29.915670</td>\n",
       "    </tr>\n",
       "  </tbody>\n",
       "</table>\n",
       "</div>"
      ],
      "text/plain": [
       "        old_cost   new_cost  real_cost\n",
       "date                                  \n",
       "01-Jan   27.2130  26.046870  27.213000\n",
       "02-Fev   29.0955  27.967920  29.095500\n",
       "03-Mar   32.3430  31.158945  32.343000\n",
       "04-Abr   28.9800  27.855735  28.980000\n",
       "05-Mai   31.0995  29.910180  31.099500\n",
       "06-Jun   28.8480  27.700095  28.144575\n",
       "07-Jul   29.4030  28.238595  28.238595\n",
       "08-Ago   30.4125  29.222610  29.222610\n",
       "09-Set   27.7710  26.690565  26.690565\n",
       "10-Out   29.3670  28.245480  28.245480\n",
       "11-Nov   31.9005  30.722265  30.722265\n",
       "12-Dez   31.0890  29.915670  29.915670"
      ]
     },
     "execution_count": 17,
     "metadata": {},
     "output_type": "execute_result"
    }
   ],
   "source": [
    "df_months.head(12)"
   ]
  },
  {
   "cell_type": "markdown",
   "id": "addressed-aging",
   "metadata": {},
   "source": [
    "Como em uma das perguntas será necessário responder _quanto a Acme deixou de gastar com a implementação do novo modelo de precificação_ foi separado um dataset apenas de 13/06/2020 até o fim do ano"
   ]
  },
  {
   "cell_type": "code",
   "execution_count": 18,
   "id": "adult-vessel",
   "metadata": {},
   "outputs": [
    {
     "data": {
      "text/html": [
       "<div>\n",
       "<style scoped>\n",
       "    .dataframe tbody tr th:only-of-type {\n",
       "        vertical-align: middle;\n",
       "    }\n",
       "\n",
       "    .dataframe tbody tr th {\n",
       "        vertical-align: top;\n",
       "    }\n",
       "\n",
       "    .dataframe thead th {\n",
       "        text-align: right;\n",
       "    }\n",
       "</style>\n",
       "<table border=\"1\" class=\"dataframe\">\n",
       "  <thead>\n",
       "    <tr style=\"text-align: right;\">\n",
       "      <th></th>\n",
       "      <th>date</th>\n",
       "      <th>function_id</th>\n",
       "      <th>execution_time</th>\n",
       "      <th>old_cost</th>\n",
       "      <th>new_cost</th>\n",
       "      <th>real_cost</th>\n",
       "    </tr>\n",
       "  </thead>\n",
       "  <tbody>\n",
       "    <tr>\n",
       "      <th>164</th>\n",
       "      <td>2020-06-13</td>\n",
       "      <td>113</td>\n",
       "      <td>63920</td>\n",
       "      <td>0.9945</td>\n",
       "      <td>0.958800</td>\n",
       "      <td>0</td>\n",
       "    </tr>\n",
       "    <tr>\n",
       "      <th>165</th>\n",
       "      <td>2020-06-14</td>\n",
       "      <td>169</td>\n",
       "      <td>73565</td>\n",
       "      <td>1.1505</td>\n",
       "      <td>1.103475</td>\n",
       "      <td>0</td>\n",
       "    </tr>\n",
       "    <tr>\n",
       "      <th>166</th>\n",
       "      <td>2020-06-15</td>\n",
       "      <td>127</td>\n",
       "      <td>58211</td>\n",
       "      <td>0.9090</td>\n",
       "      <td>0.873165</td>\n",
       "      <td>0</td>\n",
       "    </tr>\n",
       "    <tr>\n",
       "      <th>167</th>\n",
       "      <td>2020-06-16</td>\n",
       "      <td>159</td>\n",
       "      <td>88040</td>\n",
       "      <td>1.3635</td>\n",
       "      <td>1.320600</td>\n",
       "      <td>0</td>\n",
       "    </tr>\n",
       "    <tr>\n",
       "      <th>168</th>\n",
       "      <td>2020-06-17</td>\n",
       "      <td>77</td>\n",
       "      <td>48989</td>\n",
       "      <td>0.7575</td>\n",
       "      <td>0.734835</td>\n",
       "      <td>0</td>\n",
       "    </tr>\n",
       "  </tbody>\n",
       "</table>\n",
       "</div>"
      ],
      "text/plain": [
       "           date  function_id  execution_time  old_cost  new_cost  real_cost\n",
       "164  2020-06-13          113           63920    0.9945  0.958800          0\n",
       "165  2020-06-14          169           73565    1.1505  1.103475          0\n",
       "166  2020-06-15          127           58211    0.9090  0.873165          0\n",
       "167  2020-06-16          159           88040    1.3635  1.320600          0\n",
       "168  2020-06-17           77           48989    0.7575  0.734835          0"
      ]
     },
     "execution_count": 18,
     "metadata": {},
     "output_type": "execute_result"
    }
   ],
   "source": [
    "df_dif = df.copy()\n",
    "\n",
    "df_dif = df_dif.groupby('date').sum().reset_index()\n",
    "df_dif = df_dif.loc[df_dif.date >= split_date]\n",
    "df_dif = df_dif.astype({\"date\": str})\n",
    "df_dif.head()\n"
   ]
  },
  {
   "cell_type": "markdown",
   "id": "minus-sense",
   "metadata": {},
   "source": [
    "Foi feita a mesma alteração de data para o nome do mês, agrupados os resultados baseados na data e deixando apenas a coluna `economy` que é a diferença do modelo de precificação novo para o antigo."
   ]
  },
  {
   "cell_type": "code",
   "execution_count": 19,
   "id": "baking-twelve",
   "metadata": {},
   "outputs": [],
   "source": [
    "date_to_monthName(df_dif)\n",
    "\n",
    "df_dif['economy'] = df_dif.old_cost - df_dif.new_cost \n",
    "df_dif = df_dif.groupby(df_dif.date).sum().reset_index()\n",
    "df_dif.index = df_dif.date\n",
    "df_dif.drop(columns= ['function_id','execution_time','real_cost','old_cost','new_cost','date'],inplace = True)"
   ]
  },
  {
   "cell_type": "code",
   "execution_count": 20,
   "id": "adaptive-knowing",
   "metadata": {},
   "outputs": [
    {
     "data": {
      "text/html": [
       "<div>\n",
       "<style scoped>\n",
       "    .dataframe tbody tr th:only-of-type {\n",
       "        vertical-align: middle;\n",
       "    }\n",
       "\n",
       "    .dataframe tbody tr th {\n",
       "        vertical-align: top;\n",
       "    }\n",
       "\n",
       "    .dataframe thead th {\n",
       "        text-align: right;\n",
       "    }\n",
       "</style>\n",
       "<table border=\"1\" class=\"dataframe\">\n",
       "  <thead>\n",
       "    <tr style=\"text-align: right;\">\n",
       "      <th></th>\n",
       "      <th>economy</th>\n",
       "    </tr>\n",
       "    <tr>\n",
       "      <th>date</th>\n",
       "      <th></th>\n",
       "    </tr>\n",
       "  </thead>\n",
       "  <tbody>\n",
       "    <tr>\n",
       "      <th>06-Jun</th>\n",
       "      <td>0.703425</td>\n",
       "    </tr>\n",
       "    <tr>\n",
       "      <th>07-Jul</th>\n",
       "      <td>1.164405</td>\n",
       "    </tr>\n",
       "    <tr>\n",
       "      <th>08-Ago</th>\n",
       "      <td>1.189890</td>\n",
       "    </tr>\n",
       "    <tr>\n",
       "      <th>09-Set</th>\n",
       "      <td>1.080435</td>\n",
       "    </tr>\n",
       "    <tr>\n",
       "      <th>10-Out</th>\n",
       "      <td>1.121520</td>\n",
       "    </tr>\n",
       "    <tr>\n",
       "      <th>11-Nov</th>\n",
       "      <td>1.178235</td>\n",
       "    </tr>\n",
       "    <tr>\n",
       "      <th>12-Dez</th>\n",
       "      <td>1.173330</td>\n",
       "    </tr>\n",
       "  </tbody>\n",
       "</table>\n",
       "</div>"
      ],
      "text/plain": [
       "         economy\n",
       "date            \n",
       "06-Jun  0.703425\n",
       "07-Jul  1.164405\n",
       "08-Ago  1.189890\n",
       "09-Set  1.080435\n",
       "10-Out  1.121520\n",
       "11-Nov  1.178235\n",
       "12-Dez  1.173330"
      ]
     },
     "execution_count": 20,
     "metadata": {},
     "output_type": "execute_result"
    }
   ],
   "source": [
    "df_dif.head(7)"
   ]
  },
  {
   "cell_type": "markdown",
   "id": "protecting-angola",
   "metadata": {},
   "source": [
    "# Data Visualization\n",
    "\n"
   ]
  },
  {
   "cell_type": "markdown",
   "id": "assigned-globe",
   "metadata": {},
   "source": [
    "Primeiro é possível ver o valor dos três cenários que foram apresentados ao longo do tempo."
   ]
  },
  {
   "cell_type": "code",
   "execution_count": 23,
   "id": "valued-egypt",
   "metadata": {},
   "outputs": [
    {
     "data": {
      "text/plain": [
       "<AxesSubplot:title={'center':'Custo por Mês'}, xlabel='Mês', ylabel='Valor'>"
      ]
     },
     "execution_count": 23,
     "metadata": {},
     "output_type": "execute_result"
    },
    {
     "data": {
      "image/png": "[encoded data removed]",
      "text/plain": [
       "<Figure size 576x504 with 1 Axes>"
      ]
     },
     "metadata": {},
     "output_type": "display_data"
    }
   ],
   "source": [
    "df_months.plot(\n",
    "    y = ['old_cost','new_cost','real_cost'],\n",
    "    figsize=(8,7), \n",
    "    title = 'Custo por Mês',\n",
    "    xlabel = 'Mês',\n",
    "    ylabel = 'Valor')"
   ]
  },
  {
   "cell_type": "markdown",
   "id": "japanese-sapphire",
   "metadata": {},
   "source": [
    "É possível observar no gráfico acima os momentos em que a linha verde(custo real) esta sobreposta a linha azul(custo no modelo antigo) e depois a separação e consequentemente a sobreposição sob a linha laranja(custo no modelo novo)"
   ]
  },
  {
   "cell_type": "code",
   "execution_count": 24,
   "id": "theoretical-tulsa",
   "metadata": {},
   "outputs": [
    {
     "data": {
      "image/png": "[encoded data removed]",
      "text/plain": [
       "<Figure size 720x360 with 1 Axes>"
      ]
     },
     "metadata": {},
     "output_type": "display_data"
    }
   ],
   "source": [
    "df_months.plot.bar(\n",
    "    figsize=(10,5),\n",
    "    title = 'Custo por Mês',\n",
    "    xlabel = 'Mês',\n",
    "    ylabel = 'Valor').legend(loc='center left',bbox_to_anchor=(1.0, 0.5));"
   ]
  },
  {
   "cell_type": "markdown",
   "id": "promotional-swaziland",
   "metadata": {},
   "source": [
    "Versão em barras do mesmo exposto anteriormente, é possível perceber mais sutilmente a diferença entre os modelos de precificação ao longo do tempo."
   ]
  },
  {
   "cell_type": "code",
   "execution_count": 25,
   "id": "breathing-outside",
   "metadata": {},
   "outputs": [
    {
     "data": {
      "text/plain": [
       "old_cost     357.52200\n",
       "new_cost     343.67493\n",
       "real_cost    349.91076\n",
       "dtype: float64"
      ]
     },
     "execution_count": 25,
     "metadata": {},
     "output_type": "execute_result"
    }
   ],
   "source": [
    "df_months.sum()"
   ]
  },
  {
   "cell_type": "markdown",
   "id": "narrative-jonathan",
   "metadata": {},
   "source": [
    "Em valores reais, ao longo do ano o custo real foi de 349,91 reais. No modelo de precificação antigo, com arredondamento foi de 357,52 reais e no novo modelo de precificação sem arredondamento foi de 343,67 reais"
   ]
  },
  {
   "cell_type": "markdown",
   "id": "happy-modem",
   "metadata": {},
   "source": [
    "# Quanto a Acme deixou de gastar com a implementação do novo modelo de precificação?\n",
    "\n",
    " Analisaremos a partir da data da mudança 16/06/2020\n"
   ]
  },
  {
   "cell_type": "code",
   "execution_count": 27,
   "id": "british-macedonia",
   "metadata": {},
   "outputs": [
    {
     "data": {
      "text/plain": [
       "<AxesSubplot:title={'center':'Economia por Mês'}, xlabel='Mês', ylabel='Valor'>"
      ]
     },
     "execution_count": 27,
     "metadata": {},
     "output_type": "execute_result"
    },
    {
     "data": {
      "image/png": "[encoded data removed]",
      "text/plain": [
       "<Figure size 432x288 with 1 Axes>"
      ]
     },
     "metadata": {},
     "output_type": "display_data"
    }
   ],
   "source": [
    "df_dif.plot(\n",
    "    title = 'Economia por Mês',\n",
    "    xlabel = 'Mês',\n",
    "    ylabel = 'Valor')"
   ]
  },
  {
   "cell_type": "markdown",
   "id": "relevant-advocacy",
   "metadata": {},
   "source": [
    "É perceptível que a economia só se mostrou latente com um mês inteiro de mudanças, tendo aproximadamente um real de economia por mês."
   ]
  },
  {
   "cell_type": "code",
   "execution_count": 28,
   "id": "numerous-slope",
   "metadata": {},
   "outputs": [
    {
     "data": {
      "text/plain": [
       "economy    7.61124\n",
       "dtype: float64"
      ]
     },
     "execution_count": 28,
     "metadata": {},
     "output_type": "execute_result"
    }
   ],
   "source": [
    "df_dif.sum()"
   ]
  },
  {
   "cell_type": "markdown",
   "id": "serial-assignment",
   "metadata": {},
   "source": [
    "A Acme Inc. deixou de gastar  7,61 reais com a implementação do novo modelo."
   ]
  },
  {
   "cell_type": "markdown",
   "id": "mineral-housing",
   "metadata": {},
   "source": [
    "# Resultados e conclusões:\n",
    "* A Acme teve um custo total de **349,91 reais** levando em conta toda a base de dados de execuções\n",
    "* A Acme deixou de gastar **7,61 reais** com a implementação do novo modelo de precificação\n",
    "* O custo total se todas as transações estivessem no modelo antigo seria de **357,52 reais**\n",
    "* O custo total se todas as transações estivessem no modelo novo seria de **343,67 reais**\n",
    "\n",
    "* Os números de economia podem ser perceptivelmente pequenos, entretanto, se a Acme tivesse 1000 vezes mais solicitações no ano(um cenário realista ao longo do tempo) a economia seria de quase 7 salários mínimos no ano."
   ]
  },
  {
   "cell_type": "markdown",
   "id": "liquid-organic",
   "metadata": {},
   "source": [
    "# Melhorias possíveis:\n",
    "* Com uma base de dados histórica seria possível aplicar modelos de regressão para prever os custos dos meses seguintes."
   ]
  }
 ],
 "metadata": {
  "kernelspec": {
   "display_name": "Python 3",
   "language": "python",
   "name": "python3"
  },
  "language_info": {
   "codemirror_mode": {
    "name": "ipython",
    "version": 3
   },
   "file_extension": ".py",
   "mimetype": "text/x-python",
   "name": "python",
   "nbconvert_exporter": "python",
   "pygments_lexer": "ipython3",
   "version": "3.7.4"
  }
 },
 "nbformat": 4,
 "nbformat_minor": 5
}
